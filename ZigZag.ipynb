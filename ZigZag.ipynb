{
 "cells": [
  {
   "cell_type": "markdown",
   "metadata": {},
   "source": [
    "# Demonstration du Crypto ZigZag ( Rail Fence) Algorithme \n",
    "\n",
    "<h5>©<b>Houssam HAMOUDA</b> M2CS - 2022-2023<h5>\n"
   ]
  },
  {
   "cell_type": "code",
   "execution_count": 19,
   "metadata": {
    "tags": [
     "crypter"
    ]
   },
   "outputs": [
    {
     "name": "stdout",
     "output_type": "stream",
     "text": [
      "\n",
      "On Transforme notre chaine de caractère en liste\n",
      "La Liste a chiffrer :  ['h', 'o', 'u', 's', 's', 'a', 'm'] avec la clé est : 2\n",
      "h      \n"
     ]
    },
    {
     "ename": "IndexError",
     "evalue": "list index out of range",
     "output_type": "error",
     "traceback": [
      "\u001b[1;31m---------------------------------------------------------------------------\u001b[0m",
      "\u001b[1;31mIndexError\u001b[0m                                Traceback (most recent call last)",
      "Cell \u001b[1;32mIn [19], line 50\u001b[0m\n\u001b[0;32m     47\u001b[0m   \u001b[39mprint\u001b[39m(\u001b[39m'\u001b[39m\u001b[39mma liste\u001b[39m\u001b[39m'\u001b[39m, ma_liste)\n\u001b[0;32m     49\u001b[0m \u001b[39mif\u001b[39;00m \u001b[39m__name__\u001b[39m \u001b[39m==\u001b[39m \u001b[39m'\u001b[39m\u001b[39m__main__\u001b[39m\u001b[39m'\u001b[39m:\n\u001b[1;32m---> 50\u001b[0m  crypter()\n",
      "Cell \u001b[1;32mIn [19], line 28\u001b[0m, in \u001b[0;36mcrypter\u001b[1;34m()\u001b[0m\n\u001b[0;32m     26\u001b[0m         ligne \u001b[39m-\u001b[39m\u001b[39m=\u001b[39m \u001b[39m1\u001b[39m\n\u001b[0;32m     27\u001b[0m     \u001b[39mfor\u001b[39;00m i \u001b[39min\u001b[39;00m \u001b[39mrange\u001b[39m(cle):\n\u001b[1;32m---> 28\u001b[0m       \u001b[39mprint\u001b[39m(\u001b[39m\"\u001b[39m\u001b[39m\"\u001b[39m\u001b[39m.\u001b[39mjoin(msg_liste[i]))\n\u001b[0;32m     30\u001b[0m \u001b[39m# ici on combine les differente liste entre elle - les vides sont pris en considération.\u001b[39;00m\n\u001b[0;32m     31\u001b[0m   \u001b[39mfor\u001b[39;00m i \u001b[39min\u001b[39;00m \u001b[39mrange\u001b[39m(cle):\n",
      "\u001b[1;31mIndexError\u001b[0m: list index out of range"
     ]
    }
   ],
   "source": [
    "from multiprocessing import Value\n",
    "\n",
    "def crypter():\n",
    "  liste_crypto = []\n",
    "  msg = input('Votre Message :')\n",
    "  cle = int(input('La clé :'))\n",
    "  # on créer une matrice vide suivant la longueure du message et la clé\n",
    "  msg_liste = [[\" \" for i in range(len(msg))] for j in range(round(cle/2))]\n",
    "  # le message en forme de liste\n",
    "  print('\\nOn Transforme notre chaine de caractère en liste')\n",
    "  ma_liste = list(msg)\n",
    "\n",
    "  print('La Liste a chiffrer : ', ma_liste, 'avec la clé est :', cle)\n",
    "  # ici on affiche le message en plusieurs lignes en forme de zigzag ^.^\n",
    "  ligne = 0\n",
    "  curseur = 0\n",
    "  for i in range(len(msg)):\n",
    "    msg_liste[ligne][i] = msg[i]\n",
    "    if ligne == 0:\n",
    "        curseur = 0\n",
    "    elif ligne == cle-1:\n",
    "        curseur = 1\n",
    "    if curseur == 0:\n",
    "        ligne += 1\n",
    "    else:\n",
    "        ligne -= 1\n",
    "  for i in range(cle):\n",
    "    print(\"\".join(msg_liste[i]))\n",
    "\n",
    "# ici on combine les differente liste entre elle - les vides sont pris en considération.\n",
    "  for i in range(cle):\n",
    "    for j in range(len(msg)):\n",
    "        liste_crypto.append(msg_liste[i][j])\n",
    "\n",
    "# on affich le message chiffré   en forme de liste\n",
    "  print('le Message Chiffré(mode Liste): ', liste_crypto)\n",
    "# en forme de chaine de caractères.\n",
    "  print('Le Message Chiffré (mode Carcactère): ', \"\".join(liste_crypto))\n",
    "\n",
    "  liste_crypto.extend(ma_liste[i] for i in range(len(ma_liste)) if i % cle == 0)\n",
    "\n",
    "# on extract les caractères du message. vider la liste.\n",
    "  for i in range(len(ma_liste)):\n",
    "      i = 0\n",
    "      ma_liste.pop(i)\n",
    "      # je verifis si la liste est bien vidé\n",
    "  print('ma liste', ma_liste)\n",
    "  \n",
    "if __name__ == '__main__':\n",
    " crypter()\n",
    " \n",
    "    \n",
    "   \n"
   ]
  }
 ],
 "metadata": {
  "kernelspec": {
   "display_name": "Python 3.10.7 64-bit",
   "language": "python",
   "name": "python3"
  },
  "language_info": {
   "codemirror_mode": {
    "name": "ipython",
    "version": 3
   },
   "file_extension": ".py",
   "mimetype": "text/x-python",
   "name": "python",
   "nbconvert_exporter": "python",
   "pygments_lexer": "ipython3",
   "version": "3.10.7"
  },
  "orig_nbformat": 4,
  "vscode": {
   "interpreter": {
    "hash": "318aa85b2bddc802564a9eba061dddb2893a5922ebbc0c389cd869a65e319486"
   }
  }
 },
 "nbformat": 4,
 "nbformat_minor": 2
}
