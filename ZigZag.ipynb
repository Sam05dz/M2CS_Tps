{
 "cells": [
  {
   "cell_type": "markdown",
   "metadata": {},
   "source": [
    "# Demonstration du Crypto ZigZag ( Rail Fence) Algorithme \n",
    "\n",
    "<h5>©<b>Houssam HAMOUDA</b> M2CS - 2022-2023<h5>\n"
   ]
  },
  {
   "cell_type": "code",
   "execution_count": null,
   "metadata": {
    "tags": [
     "crypter"
    ]
   },
   "outputs": [],
   "source": [
    "\n",
    "\n",
    "def crypter():\n",
    "  liste_crypto = []\n",
    "  msg = input('Votre Message :')\n",
    "  cle = int(input('La clé :'))\n",
    "  # on créer une matrice vide suivant la longueure du message et la clé\n",
    "  msg_liste = [[\" \" for i in range(len(msg))] for j in range(cle)]\n",
    "  # le message en forme de liste\n",
    "  print('\\nOn Transforme notre chaine de caractère en liste')\n",
    "  ma_liste = list(msg)\n",
    "  print('La Liste a chiffrer : ', ma_liste, 'avec la clé est :', cle)\n",
    "  # ici on affiche le message en plusieurs lignes en forme de zigzag ^.^\n",
    "  print('\\nAffichage ZigZag')\n",
    "  ligne = 0\n",
    "  curseur = 0\n",
    "  for i in range(len(msg)):\n",
    "    msg_liste[ligne][i] = msg[i]\n",
    "    if ligne == 0:\n",
    "        curseur = 0\n",
    "    elif ligne == cle-1:\n",
    "        curseur = 1\n",
    "    if curseur == 0:\n",
    "        ligne += 1\n",
    "    else:\n",
    "        ligne -= 1\n",
    "  for i in range(cle):\n",
    "    print(\"\".join(msg_liste[i]))\n",
    "  # ici on combine les differente liste entre elle - les vides sont pris en considération.\n",
    "  for i in range(cle):\n",
    "    for j in range(len(msg)):\n",
    "        liste_crypto.append(msg_liste[i][j])\n",
    "# on affich le message chiffré   en forme de liste\n",
    "  print('le Message Chiffré(mode Liste): ', liste_crypto)\n",
    "# en forme de chaine de caractères.\n",
    "  print('Le Message Chiffré (mode Carcactère): ', \"\".join(liste_crypto))\n",
    "  liste_crypto.append(ma_liste[i] for i in range(len(ma_liste)) if i % cle == 0)\n",
    "\n",
    "# on extract les caractères du message. vider la liste.\n",
    "  for i in range(len(ma_liste)):\n",
    "      i = 0\n",
    "      ma_liste.pop(i)\n",
    "  \n",
    "  \n",
    "  \n",
    "if __name__ == '__main__':\n",
    " crypter()\n",
    " \n",
    "    \n",
    "   \n"
   ]
  }
 ],
 "metadata": {
  "kernelspec": {
   "display_name": "Python 3.10.7 64-bit",
   "language": "python",
   "name": "python3"
  },
  "language_info": {
   "codemirror_mode": {
    "name": "ipython",
    "version": 3
   },
   "file_extension": ".py",
   "mimetype": "text/x-python",
   "name": "python",
   "nbconvert_exporter": "python",
   "pygments_lexer": "ipython3",
   "version": "3.10.7"
  },
  "orig_nbformat": 4,
  "vscode": {
   "interpreter": {
    "hash": "318aa85b2bddc802564a9eba061dddb2893a5922ebbc0c389cd869a65e319486"
   }
  }
 },
 "nbformat": 4,
 "nbformat_minor": 2
}
